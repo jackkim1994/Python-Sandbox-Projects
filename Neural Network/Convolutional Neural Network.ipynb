{
 "cells": [
  {
   "cell_type": "markdown",
   "metadata": {
    "id": "Q91KqmCRu64D"
   },
   "source": [
    "# **Convolutional Neural Networks Project: Street View Housing Number Digit Recognition**\n",
    "\n",
    "# **Marks: 30**\n",
    "\n",
    "Welcome to the project on classification using Convolutional Neural Networks. We will continue to work with the Street View Housing Numbers (SVHN) image dataset for this project.\n",
    "\n",
    "--------------\n",
    "## **Context** \n",
    "--------------\n",
    "\n",
    "One of the most interesting tasks in deep learning is to recognize objects in natural scenes. The ability to process visual information using machine learning algorithms can be very useful as demonstrated in various applications.\n",
    "\n",
    "The SVHN dataset contains over 600,000 labeled digits cropped from street-level photos. It is one of the most popular image recognition datasets. It has been used in neural networks created by Google to improve the map quality by automatically transcribing the address numbers from a patch of pixels. The transcribed number with a known street address helps pinpoint the location of the building it represents. \n",
    "\n",
    "----------------\n",
    "## **Objective**\n",
    "----------------\n",
    "\n",
    "To build a CNN model that can recognize the digits in the images.\n",
    "\n",
    "-------------\n",
    "## **Dataset**\n",
    "-------------\n",
    "Here, we will use a subset of the original data to save some computation time. The dataset is provided as a .h5 file. The basic preprocessing steps have been applied on the dataset."
   ]
  },
  {
   "cell_type": "markdown",
   "metadata": {
    "id": "8z2Z7-OAs8QG"
   },
   "source": [
    "## **Mount the drive**\n",
    "\n",
    "Let us start by mounting the Google drive. You can run the below cell to mount the Google drive."
   ]
  },
  {
   "cell_type": "code",
   "execution_count": 65,
   "metadata": {
    "colab": {
     "base_uri": "https://localhost:8080/"
    },
    "executionInfo": {
     "elapsed": 756,
     "status": "ok",
     "timestamp": 1651963783054,
     "user": {
      "displayName": "Jackie Kim",
      "userId": "16293818887720316675"
     },
     "user_tz": 240
    },
    "id": "03lDyQUuef7z",
    "outputId": "b42152f8-8c0c-4779-80e4-4644a3d2acf5"
   },
   "outputs": [
    {
     "name": "stdout",
     "output_type": "stream",
     "text": [
      "Drive already mounted at /content/drive; to attempt to forcibly remount, call drive.mount(\"/content/drive\", force_remount=True).\n"
     ]
    }
   ],
   "source": [
    "from google.colab import drive\n",
    "\n",
    "drive.mount('/content/drive')"
   ]
  },
  {
   "cell_type": "markdown",
   "metadata": {
    "id": "C8U3DUa3eNsT"
   },
   "source": [
    "## **Importing the necessary libraries**"
   ]
  },
  {
   "cell_type": "code",
   "execution_count": 66,
   "metadata": {
    "executionInfo": {
     "elapsed": 9,
     "status": "ok",
     "timestamp": 1651963783304,
     "user": {
      "displayName": "Jackie Kim",
      "userId": "16293818887720316675"
     },
     "user_tz": 240
    },
    "id": "-dVzeuF3eQx1"
   },
   "outputs": [],
   "source": [
    "import numpy as np\n",
    "\n",
    "import pandas as pd\n",
    "\n",
    "import matplotlib.pyplot as plt\n",
    "\n",
    "import seaborn as sns\n",
    "\n",
    "from sklearn.model_selection import train_test_split\n",
    "\n",
    "from sklearn.preprocessing import MinMaxScaler\n",
    "\n",
    "import tensorflow as tf\n",
    "\n",
    "from tensorflow.keras.models import Sequential\n",
    "\n",
    "from tensorflow.keras.layers import Dense, Conv2D, MaxPool2D, BatchNormalization, Dropout, Flatten, LeakyReLU\n",
    "\n",
    "from tensorflow.keras.losses import categorical_crossentropy\n",
    "\n",
    "from tensorflow.keras.optimizers import Adam\n",
    "\n",
    "from tensorflow.keras.utils import to_categorical"
   ]
  },
  {
   "cell_type": "markdown",
   "metadata": {
    "id": "ucnevGLoyKf_"
   },
   "source": [
    "**Let us check the version of tensorflow.**"
   ]
  },
  {
   "cell_type": "code",
   "execution_count": 67,
   "metadata": {
    "colab": {
     "base_uri": "https://localhost:8080/"
    },
    "executionInfo": {
     "elapsed": 9,
     "status": "ok",
     "timestamp": 1651963783304,
     "user": {
      "displayName": "Jackie Kim",
      "userId": "16293818887720316675"
     },
     "user_tz": 240
    },
    "id": "W5as47YxyJVk",
    "outputId": "5d4a30e5-d37b-4cf0-fc92-52534ac50ba1"
   },
   "outputs": [
    {
     "name": "stdout",
     "output_type": "stream",
     "text": [
      "2.8.0\n"
     ]
    }
   ],
   "source": [
    "print(tf.__version__)"
   ]
  },
  {
   "cell_type": "markdown",
   "metadata": {
    "id": "8lsux2ZwyTTR"
   },
   "source": [
    "## **Load the dataset**\n",
    "\n",
    "- Let us now load the dataset that is available as a .h5 file.\n",
    "- Split the data into the train and the test dataset."
   ]
  },
  {
   "cell_type": "code",
   "execution_count": 68,
   "metadata": {
    "executionInfo": {
     "elapsed": 349,
     "status": "ok",
     "timestamp": 1651963783646,
     "user": {
      "displayName": "Jackie Kim",
      "userId": "16293818887720316675"
     },
     "user_tz": 240
    },
    "id": "BApX9qgNsqV0",
    "scrolled": true
   },
   "outputs": [],
   "source": [
    "import h5py\n",
    "\n",
    "# Open the file as read only\n",
    "# User can make changes in the path as required\n",
    "\n",
    "h5f = h5py.File('/content/drive/MyDrive/SVHN_single_grey1.h5', 'r')\n",
    "\n",
    "# Load the the train and the test dataset\n",
    "\n",
    "X_train = h5f['X_train'][:]\n",
    "\n",
    "y_train = h5f['y_train'][:]\n",
    "\n",
    "X_test = h5f['X_test'][:]\n",
    "\n",
    "y_test = h5f['y_test'][:]\n",
    "\n",
    "\n",
    "# Close this file\n",
    "\n",
    "h5f.close()"
   ]
  },
  {
   "cell_type": "markdown",
   "metadata": {
    "id": "hVe0CYpUgj7w"
   },
   "source": [
    "Let's check the number of images in the training and the testing dataset."
   ]
  },
  {
   "cell_type": "code",
   "execution_count": 69,
   "metadata": {
    "colab": {
     "base_uri": "https://localhost:8080/"
    },
    "executionInfo": {
     "elapsed": 3,
     "status": "ok",
     "timestamp": 1651963783646,
     "user": {
      "displayName": "Jackie Kim",
      "userId": "16293818887720316675"
     },
     "user_tz": 240
    },
    "id": "y3lwKpOefkpA",
    "outputId": "6d7c7761-85c2-48b7-a999-d487002ed6f6"
   },
   "outputs": [
    {
     "data": {
      "text/plain": [
       "(42000, 18000)"
      ]
     },
     "execution_count": 69,
     "metadata": {},
     "output_type": "execute_result"
    }
   ],
   "source": [
    "len(X_train), len(X_test)"
   ]
  },
  {
   "cell_type": "markdown",
   "metadata": {
    "id": "akTUOfLlgwoM"
   },
   "source": [
    "**Observation:**\n",
    "- There are 42,000 images in the training data and 18,000 images in the testing data. "
   ]
  },
  {
   "cell_type": "markdown",
   "metadata": {
    "id": "kxODV6HKykuc"
   },
   "source": [
    "## **Visualizing images**\n",
    "\n",
    "- Use X_train to visualize the first 10 images.\n",
    "- Use Y_train to print the first 10 labels."
   ]
  },
  {
   "cell_type": "markdown",
   "metadata": {
    "id": "giALtffZKDNq"
   },
   "source": [
    "### **Question 1: Complete the below code to visualize the first 10 images in the dataset. (1 Mark)**"
   ]
  },
  {
   "cell_type": "code",
   "execution_count": 70,
   "metadata": {
    "colab": {
     "base_uri": "https://localhost:8080/",
     "height": 96
    },
    "executionInfo": {
     "elapsed": 1172,
     "status": "ok",
     "timestamp": 1651963784816,
     "user": {
      "displayName": "Jackie Kim",
      "userId": "16293818887720316675"
     },
     "user_tz": 240
    },
    "id": "Bvsc8ytHsqWD",
    "outputId": "5906bd05-a857-40a3-fc81-79bd1421de48"
   },
   "outputs": [
    {
     "data": {
      "image/png": "[encoded data removed]",
      "text/plain": [
       "<Figure size 720x72 with 10 Axes>"
      ]
     },
     "metadata": {
      "needs_background": "light"
     },
     "output_type": "display_data"
    },
    {
     "name": "stdout",
     "output_type": "stream",
     "text": [
      "label for each of the above image: [2 6 7 4 4 0 3 0 7 3]\n"
     ]
    }
   ],
   "source": [
    "# Visualizing the first 10 images in the dataset and printing their labels\n",
    "\n",
    "%matplotlib inline\n",
    "\n",
    "import matplotlib.pyplot as plt\n",
    "\n",
    "plt.figure(figsize = (10, 1))\n",
    "\n",
    "for i in range(10):\n",
    "\n",
    "    plt.subplot(1, 10, i+1)\n",
    "    \n",
    "    plt.imshow(X_train[i], cmap = \"gray\")  # Write the function to visualize images\n",
    "\n",
    "    plt.axis('off')\n",
    "\n",
    "plt.show()\n",
    "\n",
    "print('label for each of the above image: %s' % (y_train[0:10]))"
   ]
  },
  {
   "cell_type": "markdown",
   "metadata": {
    "id": "kzoyeXHOy80N"
   },
   "source": [
    "## **Data preparation**\n",
    "\n",
    "- Print the shape and the array of pixels for the first image in the training dataset.\n",
    "- Reshape the train and the test dataset because we always have to give a 4D array as input to CNNs.\n",
    "- Normalize the train and the test dataset by dividing by 255.\n",
    "- Print the new shapes of the train and the test dataset.\n",
    "- One-hot encode the target variable."
   ]
  },
  {
   "cell_type": "code",
   "execution_count": 71,
   "metadata": {
    "colab": {
     "base_uri": "https://localhost:8080/"
    },
    "executionInfo": {
     "elapsed": 299,
     "status": "ok",
     "timestamp": 1651963784864,
     "user": {
      "displayName": "Jackie Kim",
      "userId": "16293818887720316675"
     },
     "user_tz": 240
    },
    "id": "NqndzQXng9rL",
    "outputId": "7d772039-fe93-4c29-b2c0-b9338e9706b4"
   },
   "outputs": [
    {
     "name": "stdout",
     "output_type": "stream",
     "text": [
      "Shape: (32, 32)\n",
      "\n",
      "First image:\n",
      " [[ 33.0704  30.2601  26.852  ...  71.4471  58.2204  42.9939]\n",
      " [ 25.2283  25.5533  29.9765 ... 113.0209 103.3639  84.2949]\n",
      " [ 26.2775  22.6137  40.4763 ... 113.3028 121.775  115.4228]\n",
      " ...\n",
      " [ 28.5502  36.212   45.0801 ...  24.1359  25.0927  26.0603]\n",
      " [ 38.4352  26.4733  23.2717 ...  28.1094  29.4683  30.0661]\n",
      " [ 50.2984  26.0773  24.0389 ...  49.6682  50.853   53.0377]]\n"
     ]
    }
   ],
   "source": [
    "# Shape and the array of pixels for the first image\n",
    "\n",
    "print(\"Shape:\", X_train[0].shape)\n",
    "\n",
    "print()\n",
    "\n",
    "print(\"First image:\\n\", X_train[0])"
   ]
  },
  {
   "cell_type": "code",
   "execution_count": 72,
   "metadata": {
    "executionInfo": {
     "elapsed": 281,
     "status": "ok",
     "timestamp": 1651963784864,
     "user": {
      "displayName": "Jackie Kim",
      "userId": "16293818887720316675"
     },
     "user_tz": 240
    },
    "id": "D9YPwf9ysqWU"
   },
   "outputs": [],
   "source": [
    "# Reshaping the dataset to be able to pass them to CNNs. Remember that we always have to give a 4D array as input to CNNs\n",
    "\n",
    "X_train = X_train.reshape(X_train.shape[0], 32, 32, 1)\n",
    "\n",
    "X_test = X_test.reshape(X_test.shape[0], 32, 32, 1)"
   ]
  },
  {
   "cell_type": "code",
   "execution_count": 73,
   "metadata": {
    "executionInfo": {
     "elapsed": 453,
     "status": "ok",
     "timestamp": 1651963785042,
     "user": {
      "displayName": "Jackie Kim",
      "userId": "16293818887720316675"
     },
     "user_tz": 240
    },
    "id": "q_yUUTp_mUzB"
   },
   "outputs": [],
   "source": [
    "# Normalize inputs from 0-255 to 0-1\n",
    "\n",
    "X_train = X_train / 255.0\n",
    "\n",
    "X_test = X_test / 255.0"
   ]
  },
  {
   "cell_type": "code",
   "execution_count": 74,
   "metadata": {
    "colab": {
     "base_uri": "https://localhost:8080/"
    },
    "executionInfo": {
     "elapsed": 454,
     "status": "ok",
     "timestamp": 1651963785043,
     "user": {
      "displayName": "Jackie Kim",
      "userId": "16293818887720316675"
     },
     "user_tz": 240
    },
    "id": "t7FSqOpamWkH",
    "outputId": "2642fd77-a6e6-43a3-ab57-1eac8c680fe2"
   },
   "outputs": [
    {
     "name": "stdout",
     "output_type": "stream",
     "text": [
      "Training set: (42000, 32, 32, 1) (42000,)\n",
      "Test set: (18000, 32, 32, 1) (18000,)\n"
     ]
    }
   ],
   "source": [
    "# New shape \n",
    "\n",
    "print('Training set:', X_train.shape, y_train.shape)\n",
    "\n",
    "print('Test set:', X_test.shape, y_test.shape)"
   ]
  },
  {
   "cell_type": "markdown",
   "metadata": {
    "id": "10QaOV-xR7Jn"
   },
   "source": [
    "### **Question 2: One-hot encode the labels in the target variable y_train and y_test. (2 Marks)**"
   ]
  },
  {
   "cell_type": "code",
   "execution_count": 75,
   "metadata": {
    "colab": {
     "base_uri": "https://localhost:8080/"
    },
    "executionInfo": {
     "elapsed": 447,
     "status": "ok",
     "timestamp": 1651963785043,
     "user": {
      "displayName": "Jackie Kim",
      "userId": "16293818887720316675"
     },
     "user_tz": 240
    },
    "id": "zL0lYER4sqWw",
    "outputId": "53907f3a-da89-48e3-cc02-f47226b7af9e"
   },
   "outputs": [
    {
     "data": {
      "text/plain": [
       "array([[0., 1., 0., ..., 0., 0., 0.],\n",
       "       [0., 0., 0., ..., 1., 0., 0.],\n",
       "       [0., 0., 1., ..., 0., 0., 0.],\n",
       "       ...,\n",
       "       [0., 0., 0., ..., 1., 0., 0.],\n",
       "       [0., 0., 0., ..., 0., 0., 1.],\n",
       "       [0., 0., 1., ..., 0., 0., 0.]], dtype=float32)"
      ]
     },
     "execution_count": 75,
     "metadata": {},
     "output_type": "execute_result"
    }
   ],
   "source": [
    "# Write the function and appropriate variable name to one-hot encode the output\n",
    "\n",
    "y_train = to_categorical(y_train)\n",
    "\n",
    "y_test = to_categorical(y_test)\n",
    "\n",
    "# test labels\n",
    "\n",
    "y_test"
   ]
  },
  {
   "cell_type": "markdown",
   "metadata": {
    "id": "ViqPOTquCF76"
   },
   "source": [
    "**Observation:**\n",
    "- Notice that each entry of the target variable is a one-hot encoded vector instead of a single label."
   ]
  },
  {
   "cell_type": "markdown",
   "metadata": {
    "id": "yH-gVrzuByNA"
   },
   "source": [
    "## **Model Building**\n",
    "\n",
    "Now that we have done data preprocessing, let's build a CNN model."
   ]
  },
  {
   "cell_type": "code",
   "execution_count": 76,
   "metadata": {
    "executionInfo": {
     "elapsed": 456,
     "status": "ok",
     "timestamp": 1651963785056,
     "user": {
      "displayName": "Jackie Kim",
      "userId": "16293818887720316675"
     },
     "user_tz": 240
    },
    "id": "ZY5pyF4-KDNt"
   },
   "outputs": [],
   "source": [
    "# Fixing the seed for random number generators\n",
    "\n",
    "np.random.seed(42)\n",
    "\n",
    "import random\n",
    "\n",
    "random.seed(42)\n",
    "\n",
    "tf.random.set_seed(42)"
   ]
  },
  {
   "cell_type": "markdown",
   "metadata": {
    "id": "UJDUoaEj1d6e"
   },
   "source": [
    "### **Model Architecture**\n",
    "- **Write a function** that returns a sequential model with the following architecture:\n",
    " - First Convolutional layer with **16 filters and the kernel size of 3x3**. Use the **'same' padding** and provide the **input shape = (32, 32, 1)**\n",
    " - Add a **LeakyRelu layer** with the **slope equal to 0.1**\n",
    " - Second Convolutional layer with **32 filters and the kernel size of 3x3 with 'same' padding**\n",
    " - Another **LeakyRelu** with the **slope equal to 0.1**\n",
    " - A **max-pooling layer** with a **pool size of 2x2**\n",
    " - **Flatten** the output from the previous layer\n",
    " - Add a **dense layer with 32 nodes**\n",
    " - Add a **LeakyRelu layer with the slope equal to 0.1**\n",
    " - Add the final **output layer with nodes equal to the number of classes, i.e., 10** and **'softmax' as the activation function**\n",
    " - Compile the model with the **loss equal to categorical_crossentropy, optimizer equal to Adam(learning_rate = 0.001), and metric equal to 'accuracy'**. Do not fit the model here, just return the compiled model.\n",
    "- Call the function cnn_model_1 and store the output in a new variable.\n",
    "- Print the summary of the model.\n",
    "- Fit the model on the training data with a **validation split of 0.2, batch size = 32, verbose = 1, and epochs = 20**. Store the model building history to use later for visualization."
   ]
  },
  {
   "cell_type": "markdown",
   "metadata": {
    "id": "JWsAd45JKDNu"
   },
   "source": [
    "### **Question 3: Build and train a CNN model as per the above mentioned architecture. (10 Marks)**"
   ]
  },
  {
   "cell_type": "code",
   "execution_count": 77,
   "metadata": {
    "executionInfo": {
     "elapsed": 386,
     "status": "ok",
     "timestamp": 1651963785056,
     "user": {
      "displayName": "Jackie Kim",
      "userId": "16293818887720316675"
     },
     "user_tz": 240
    },
    "id": "Cmi81Gr5sqW-"
   },
   "outputs": [],
   "source": [
    "# Define the model\n",
    "\n",
    "def cnn_model_1():\n",
    "\n",
    "    model = Sequential() \n",
    "    \n",
    "    # Add layers as per the architecture mentioned above in the same sequence\n",
    "\n",
    "    model.add(Conv2D(filters = 16, kernel_size = (3,3), padding = 'same', input_shape = (32,32,1)))\n",
    "\n",
    "    model.add(LeakyReLU(0.1))\n",
    "\n",
    "    model.add(Conv2D(filters = 32, kernel_size = (3,3), padding = 'same'))\n",
    "\n",
    "    model.add(LeakyReLU(0.1))\n",
    "\n",
    "    model.add(MaxPool2D(2,2))\n",
    "\n",
    "    model.add(Flatten())\n",
    "\n",
    "    model.add(Dense(32))\n",
    "\n",
    "    model.add(LeakyReLU(0.1))\n",
    "\n",
    "    model.add(Dense(10,activation = 'softmax'))\n",
    "    \n",
    "    # Compile the model\n",
    "\n",
    "    model.compile(loss = 'categorical_crossentropy',\n",
    "                  optimizer = tf.keras.optimizers.Adam(learning_rate = 0.001),\n",
    "                  metrics = ['accuracy'])\n",
    "    \n",
    "    return model"
   ]
  },
  {
   "cell_type": "code",
   "execution_count": 78,
   "metadata": {
    "executionInfo": {
     "elapsed": 394,
     "status": "ok",
     "timestamp": 1651963785065,
     "user": {
      "displayName": "Jackie Kim",
      "userId": "16293818887720316675"
     },
     "user_tz": 240
    },
    "id": "bGCUI_xsImnH"
   },
   "outputs": [],
   "source": [
    "# Build the model\n",
    "\n",
    "model_1 = cnn_model_1()"
   ]
  },
  {
   "cell_type": "code",
   "execution_count": 79,
   "metadata": {
    "colab": {
     "base_uri": "https://localhost:8080/"
    },
    "executionInfo": {
     "elapsed": 3130,
     "status": "ok",
     "timestamp": 1651963787807,
     "user": {
      "displayName": "Jackie Kim",
      "userId": "16293818887720316675"
     },
     "user_tz": 240
    },
    "id": "ckJsLdmdQadZ",
    "outputId": "a28d99b4-20cd-4d9e-bf4a-151af5e6804a"
   },
   "outputs": [
    {
     "name": "stdout",
     "output_type": "stream",
     "text": [
      "Model: \"sequential_5\"\n",
      "_________________________________________________________________\n",
      " Layer (type)                Output Shape              Param #   \n",
      "=================================================================\n",
      " conv2d_17 (Conv2D)          (None, 32, 32, 16)        160       \n",
      "                                                                 \n",
      " leaky_re_lu_21 (LeakyReLU)  (None, 32, 32, 16)        0         \n",
      "                                                                 \n",
      " conv2d_18 (Conv2D)          (None, 32, 32, 32)        4640      \n",
      "                                                                 \n",
      " leaky_re_lu_22 (LeakyReLU)  (None, 32, 32, 32)        0         \n",
      "                                                                 \n",
      " max_pooling2d_8 (MaxPooling  (None, 16, 16, 32)       0         \n",
      " 2D)                                                             \n",
      "                                                                 \n",
      " flatten_4 (Flatten)         (None, 8192)              0         \n",
      "                                                                 \n",
      " dense_8 (Dense)             (None, 32)                262176    \n",
      "                                                                 \n",
      " leaky_re_lu_23 (LeakyReLU)  (None, 32)                0         \n",
      "                                                                 \n",
      " dense_9 (Dense)             (None, 10)                330       \n",
      "                                                                 \n",
      "=================================================================\n",
      "Total params: 267,306\n",
      "Trainable params: 267,306\n",
      "Non-trainable params: 0\n",
      "_________________________________________________________________\n"
     ]
    }
   ],
   "source": [
    "# Print the model summary\n",
    "\n",
    "model_1.summary()"
   ]
  },
  {
   "cell_type": "code",
   "execution_count": 80,
   "metadata": {
    "colab": {
     "base_uri": "https://localhost:8080/"
    },
    "executionInfo": {
     "elapsed": 199535,
     "status": "ok",
     "timestamp": 1651963987335,
     "user": {
      "displayName": "Jackie Kim",
      "userId": "16293818887720316675"
     },
     "user_tz": 240
    },
    "id": "3Fy3Dif_zcCk",
    "outputId": "99b25487-bf92-47a2-a436-48061e9a39ab"
   },
   "outputs": [
    {
     "name": "stdout",
     "output_type": "stream",
     "text": [
      "Epoch 1/20\n",
      "1050/1050 [==============================] - 11s 10ms/step - loss: 1.2016 - accuracy: 0.6007 - val_loss: 0.6355 - val_accuracy: 0.8114\n",
      "Epoch 2/20\n",
      "1050/1050 [==============================] - 10s 9ms/step - loss: 0.5329 - accuracy: 0.8471 - val_loss: 0.5003 - val_accuracy: 0.8579\n",
      "Epoch 3/20\n",
      "1050/1050 [==============================] - 10s 9ms/step - loss: 0.4385 - accuracy: 0.8704 - val_loss: 0.4842 - val_accuracy: 0.8599\n",
      "Epoch 4/20\n",
      "1050/1050 [==============================] - 10s 9ms/step - loss: 0.3773 - accuracy: 0.8879 - val_loss: 0.4514 - val_accuracy: 0.8760\n",
      "Epoch 5/20\n",
      "1050/1050 [==============================] - 10s 9ms/step - loss: 0.3320 - accuracy: 0.8998 - val_loss: 0.4524 - val_accuracy: 0.8748\n",
      "Epoch 6/20\n",
      "1050/1050 [==============================] - 10s 9ms/step - loss: 0.2906 - accuracy: 0.9133 - val_loss: 0.4563 - val_accuracy: 0.8696\n",
      "Epoch 7/20\n",
      "1050/1050 [==============================] - 10s 9ms/step - loss: 0.2619 - accuracy: 0.9197 - val_loss: 0.4474 - val_accuracy: 0.8760\n",
      "Epoch 8/20\n",
      "1050/1050 [==============================] - 10s 9ms/step - loss: 0.2299 - accuracy: 0.9293 - val_loss: 0.4656 - val_accuracy: 0.8745\n",
      "Epoch 9/20\n",
      "1050/1050 [==============================] - 10s 9ms/step - loss: 0.2099 - accuracy: 0.9358 - val_loss: 0.4689 - val_accuracy: 0.8774\n",
      "Epoch 10/20\n",
      "1050/1050 [==============================] - 10s 9ms/step - loss: 0.1861 - accuracy: 0.9417 - val_loss: 0.5070 - val_accuracy: 0.8749\n",
      "Epoch 11/20\n",
      "1050/1050 [==============================] - 10s 9ms/step - loss: 0.1671 - accuracy: 0.9472 - val_loss: 0.5285 - val_accuracy: 0.8712\n",
      "Epoch 12/20\n",
      "1050/1050 [==============================] - 10s 9ms/step - loss: 0.1498 - accuracy: 0.9525 - val_loss: 0.5855 - val_accuracy: 0.8662\n",
      "Epoch 13/20\n",
      "1050/1050 [==============================] - 10s 9ms/step - loss: 0.1294 - accuracy: 0.9590 - val_loss: 0.6269 - val_accuracy: 0.8615\n",
      "Epoch 14/20\n",
      "1050/1050 [==============================] - 10s 9ms/step - loss: 0.1176 - accuracy: 0.9631 - val_loss: 0.6280 - val_accuracy: 0.8613\n",
      "Epoch 15/20\n",
      "1050/1050 [==============================] - 10s 9ms/step - loss: 0.1080 - accuracy: 0.9643 - val_loss: 0.6498 - val_accuracy: 0.8725\n",
      "Epoch 16/20\n",
      "1050/1050 [==============================] - 10s 9ms/step - loss: 0.1001 - accuracy: 0.9680 - val_loss: 0.7016 - val_accuracy: 0.8696\n",
      "Epoch 17/20\n",
      "1050/1050 [==============================] - 10s 9ms/step - loss: 0.0872 - accuracy: 0.9721 - val_loss: 0.7662 - val_accuracy: 0.8733\n",
      "Epoch 18/20\n",
      "1050/1050 [==============================] - 10s 9ms/step - loss: 0.0798 - accuracy: 0.9742 - val_loss: 0.7815 - val_accuracy: 0.8708\n",
      "Epoch 19/20\n",
      "1050/1050 [==============================] - 10s 9ms/step - loss: 0.0745 - accuracy: 0.9756 - val_loss: 0.7971 - val_accuracy: 0.8577\n",
      "Epoch 20/20\n",
      "1050/1050 [==============================] - 10s 9ms/step - loss: 0.0703 - accuracy: 0.9763 - val_loss: 0.8314 - val_accuracy: 0.8656\n"
     ]
    }
   ],
   "source": [
    "# Fit the model\n",
    "\n",
    "history_model_1 = model_1.fit(X_train,\n",
    "                              y_train,\n",
    "                              validation_split = 0.2,\n",
    "                              batch_size = 32,\n",
    "                              verbose = 1,\n",
    "                              epochs = 20)"
   ]
  },
  {
   "cell_type": "markdown",
   "metadata": {
    "id": "tKOckG-KPyLg"
   },
   "source": [
    "### **Plotting the validation and training accuracies**"
   ]
  },
  {
   "cell_type": "markdown",
   "metadata": {
    "id": "JPzfIf9kKDNw"
   },
   "source": [
    "### **Question 4: Write your observations on the below plot. (2 Marks)**"
   ]
  },
  {
   "cell_type": "code",
   "execution_count": 81,
   "metadata": {
    "colab": {
     "base_uri": "https://localhost:8080/",
     "height": 497
    },
    "executionInfo": {
     "elapsed": 37,
     "status": "ok",
     "timestamp": 1651963987338,
     "user": {
      "displayName": "Jackie Kim",
      "userId": "16293818887720316675"
     },
     "user_tz": 240
    },
    "id": "lt77zgGMP4yw",
    "outputId": "a43c80c7-c6b8-40c7-f2a5-24511b087af5"
   },
   "outputs": [
    {
     "data": {
      "image/png": "[encoded data removed]",
      "text/plain": [
       "<Figure size 576x576 with 1 Axes>"
      ]
     },
     "metadata": {
      "needs_background": "light"
     },
     "output_type": "display_data"
    }
   ],
   "source": [
    "# Plotting the accuracies\n",
    "\n",
    "dict_hist = history_model_1.history\n",
    "\n",
    "list_ep = [i for i in range(1, 21)]\n",
    "\n",
    "plt.figure(figsize = (8, 8))\n",
    "\n",
    "plt.plot(list_ep, dict_hist['accuracy'], ls = '--', label = 'accuracy')\n",
    "\n",
    "plt.plot(list_ep, dict_hist['val_accuracy'], ls = '--', label = 'val_accuracy')\n",
    "\n",
    "plt.ylabel('Accuracy')\n",
    "\n",
    "plt.xlabel('Epochs')\n",
    "\n",
    "plt.legend()\n",
    "\n",
    "plt.show()"
   ]
  },
  {
   "cell_type": "markdown",
   "metadata": {
    "id": "pGBbQpLONX7k"
   },
   "source": [
    "**Observations:**\n",
    "* `val_accuracy` is performing much poorer compared to `accuracy`. The validation accuracy is stagnating at around 85 ~ 88%. while standard `accuracy` surpasses 95% at the end of Epochs.\n",
    "* We will need to come up with a better model to improve the validation accruacy."
   ]
  },
  {
   "cell_type": "markdown",
   "metadata": {
    "id": "z0qgLMBZm5-K"
   },
   "source": [
    "Let's build another model and see if we can get a better model with generalized performance.\n",
    "\n",
    "First, we need to clear the previous model's history from the Keras backend. Also, let's fix the seed again after clearing the backend."
   ]
  },
  {
   "cell_type": "code",
   "execution_count": 82,
   "metadata": {
    "executionInfo": {
     "elapsed": 29,
     "status": "ok",
     "timestamp": 1651963987340,
     "user": {
      "displayName": "Jackie Kim",
      "userId": "16293818887720316675"
     },
     "user_tz": 240
    },
    "id": "y98BpLxsok_H"
   },
   "outputs": [],
   "source": [
    "# Clearing backend\n",
    "\n",
    "from tensorflow.keras import backend\n",
    "\n",
    "backend.clear_session()"
   ]
  },
  {
   "cell_type": "code",
   "execution_count": 83,
   "metadata": {
    "executionInfo": {
     "elapsed": 30,
     "status": "ok",
     "timestamp": 1651963987341,
     "user": {
      "displayName": "Jackie Kim",
      "userId": "16293818887720316675"
     },
     "user_tz": 240
    },
    "id": "HbKi93HTolGW"
   },
   "outputs": [],
   "source": [
    "# Fixing the seed for random number generators\n",
    "\n",
    "np.random.seed(42)\n",
    "\n",
    "import random\n",
    "\n",
    "random.seed(42)\n",
    "\n",
    "tf.random.set_seed(42)"
   ]
  },
  {
   "cell_type": "markdown",
   "metadata": {
    "id": "lT6o3TIKuCtk"
   },
   "source": [
    "### **Second Model Architecture**\n",
    "\n",
    "- Write a function that returns a sequential model with the following architecture:\n",
    " - First Convolutional layer with **16 filters and the kernel size of 3x3**. Use the **'same' padding** and provide the **input shape = (32, 32, 1)**\n",
    " - Add a **LeakyRelu layer** with the **slope equal to 0.1**\n",
    " - Second Convolutional layer with **32 filters and the kernel size of 3x3 with 'same' padding**\n",
    " - Add **LeakyRelu** with the **slope equal to 0.1**\n",
    " - Add a **max-pooling layer** with a **pool size of 2x2**\n",
    " - Add a **BatchNormalization layer**\n",
    " - Third Convolutional layer with **32 filters and the kernel size of 3x3 with 'same' padding**\n",
    " - Add a **LeakyRelu layer with the slope equal to 0.1**\n",
    " - Fourth Convolutional layer **64 filters and the kernel size of 3x3 with 'same' padding** \n",
    " - Add a **LeakyRelu layer with the slope equal to 0.1**\n",
    " - Add a **max-pooling layer** with a **pool size of 2x2**\n",
    " - Add a **BatchNormalization layer**\n",
    " - **Flatten** the output from the previous layer\n",
    " - Add a **dense layer with 32 nodes**\n",
    " - Add a **LeakyRelu layer with the slope equal to 0.1**\n",
    " - Add a **dropout layer with the rate equal to 0.5**\n",
    " - Add the final **output layer with nodes equal to the number of classes, i.e., 10** and **'softmax' as the activation function**\n",
    " - Compile the model with the **categorical_crossentropy loss, adam optimizers (learning_rate = 0.001), and metric equal to 'accuracy'**. Do not fit the model here, just return the compiled model.\n",
    "- Call the function cnn_model_2 and store the model in a new variable.\n",
    "- Print the summary of the model.\n",
    "- Fit the model on the train data with a **validation split of 0.2, batch size = 128, verbose = 1, and epochs = 30**. Store the model building history to use later for visualization."
   ]
  },
  {
   "cell_type": "markdown",
   "metadata": {
    "id": "y5IBLS1eKDNy"
   },
   "source": [
    "### **Question 5: Build and train the second CNN model as per the above mentioned architecture. (10 Marks)**"
   ]
  },
  {
   "cell_type": "code",
   "execution_count": 84,
   "metadata": {
    "executionInfo": {
     "elapsed": 33,
     "status": "ok",
     "timestamp": 1651963987344,
     "user": {
      "displayName": "Jackie Kim",
      "userId": "16293818887720316675"
     },
     "user_tz": 240
    },
    "id": "EEPYLFIPnSDP"
   },
   "outputs": [],
   "source": [
    "# Define the model\n",
    "\n",
    "def cnn_model_2():\n",
    "    \n",
    "    model = Sequential()\n",
    "    \n",
    "    # Add layers as per the architecture mentioned above in the same sequence\n",
    "\n",
    "    model.add(Conv2D(filters = 16, kernel_size = (3,3), padding = 'same', input_shape = (32,32,1)))\n",
    "\n",
    "    model.add(LeakyReLU(0.1))\n",
    "\n",
    "    model.add(Conv2D(filters = 32, kernel_size = (3,3), padding = 'same'))\n",
    "\n",
    "    model.add(LeakyReLU(0.1))\n",
    "\n",
    "    model.add(MaxPool2D(2,2))\n",
    "\n",
    "    model.add(BatchNormalization())\n",
    "\n",
    "    model.add(Conv2D(filters = 32, kernel_size = (3,3), padding = 'same'))\n",
    "\n",
    "    model.add(LeakyReLU(0.1))\n",
    "\n",
    "    model.add(Conv2D(filters = 64, kernel_size = (3,3), padding = 'same'))\n",
    "\n",
    "    model.add(LeakyReLU(0.1))\n",
    "\n",
    "    model.add(MaxPool2D(2,2))\n",
    "\n",
    "    model.add(BatchNormalization())\n",
    "\n",
    "    model.add(Flatten())\n",
    "\n",
    "    model.add(Dense(32))\n",
    "\n",
    "    model.add(LeakyReLU(0.1))\n",
    "\n",
    "    model.add(Dropout(0.5))\n",
    "\n",
    "    model.add(Dense(10,activation = 'softmax'))\n",
    "\n",
    "    # Compile the model\n",
    "\n",
    "    model.compile(loss = 'categorical_crossentropy',\n",
    "                  optimizer = tf.keras.optimizers.Adam(learning_rate = 0.001),\n",
    "                  metrics = ['accuracy'])\n",
    "    \n",
    "    return model"
   ]
  },
  {
   "cell_type": "code",
   "execution_count": 85,
   "metadata": {
    "executionInfo": {
     "elapsed": 34,
     "status": "ok",
     "timestamp": 1651963987346,
     "user": {
      "displayName": "Jackie Kim",
      "userId": "16293818887720316675"
     },
     "user_tz": 240
    },
    "id": "AKjDY4plnSFl"
   },
   "outputs": [],
   "source": [
    "# Build the model\n",
    "\n",
    "model_2 = cnn_model_2()"
   ]
  },
  {
   "cell_type": "code",
   "execution_count": 86,
   "metadata": {
    "colab": {
     "base_uri": "https://localhost:8080/"
    },
    "executionInfo": {
     "elapsed": 279,
     "status": "ok",
     "timestamp": 1651963987591,
     "user": {
      "displayName": "Jackie Kim",
      "userId": "16293818887720316675"
     },
     "user_tz": 240
    },
    "id": "gz_6SVrU2swZ",
    "outputId": "f39993f4-2951-49e2-d9c6-de4d63de5c4c"
   },
   "outputs": [
    {
     "name": "stdout",
     "output_type": "stream",
     "text": [
      "Model: \"sequential\"\n",
      "_________________________________________________________________\n",
      " Layer (type)                Output Shape              Param #   \n",
      "=================================================================\n",
      " conv2d (Conv2D)             (None, 32, 32, 16)        160       \n",
      "                                                                 \n",
      " leaky_re_lu (LeakyReLU)     (None, 32, 32, 16)        0         \n",
      "                                                                 \n",
      " conv2d_1 (Conv2D)           (None, 32, 32, 32)        4640      \n",
      "                                                                 \n",
      " leaky_re_lu_1 (LeakyReLU)   (None, 32, 32, 32)        0         \n",
      "                                                                 \n",
      " max_pooling2d (MaxPooling2D  (None, 16, 16, 32)       0         \n",
      " )                                                               \n",
      "                                                                 \n",
      " batch_normalization (BatchN  (None, 16, 16, 32)       128       \n",
      " ormalization)                                                   \n",
      "                                                                 \n",
      " conv2d_2 (Conv2D)           (None, 16, 16, 32)        9248      \n",
      "                                                                 \n",
      " leaky_re_lu_2 (LeakyReLU)   (None, 16, 16, 32)        0         \n",
      "                                                                 \n",
      " conv2d_3 (Conv2D)           (None, 16, 16, 64)        18496     \n",
      "                                                                 \n",
      " leaky_re_lu_3 (LeakyReLU)   (None, 16, 16, 64)        0         \n",
      "                                                                 \n",
      " max_pooling2d_1 (MaxPooling  (None, 8, 8, 64)         0         \n",
      " 2D)                                                             \n",
      "                                                                 \n",
      " batch_normalization_1 (Batc  (None, 8, 8, 64)         256       \n",
      " hNormalization)                                                 \n",
      "                                                                 \n",
      " flatten (Flatten)           (None, 4096)              0         \n",
      "                                                                 \n",
      " dense (Dense)               (None, 32)                131104    \n",
      "                                                                 \n",
      " leaky_re_lu_4 (LeakyReLU)   (None, 32)                0         \n",
      "                                                                 \n",
      " dropout (Dropout)           (None, 32)                0         \n",
      "                                                                 \n",
      " dense_1 (Dense)             (None, 10)                330       \n",
      "                                                                 \n",
      "=================================================================\n",
      "Total params: 164,362\n",
      "Trainable params: 164,170\n",
      "Non-trainable params: 192\n",
      "_________________________________________________________________\n"
     ]
    }
   ],
   "source": [
    "# Print the summary\n",
    "\n",
    "model_2.summary()"
   ]
  },
  {
   "cell_type": "code",
   "execution_count": 87,
   "metadata": {
    "colab": {
     "base_uri": "https://localhost:8080/"
    },
    "executionInfo": {
     "elapsed": 166387,
     "status": "ok",
     "timestamp": 1651964153974,
     "user": {
      "displayName": "Jackie Kim",
      "userId": "16293818887720316675"
     },
     "user_tz": 240
    },
    "id": "IQ0Sc4R-y-uu",
    "outputId": "e8e73eac-2248-4f78-f851-5329f16028bd"
   },
   "outputs": [
    {
     "name": "stdout",
     "output_type": "stream",
     "text": [
      "Epoch 1/30\n",
      "263/263 [==============================] - 7s 22ms/step - loss: 1.4696 - accuracy: 0.4990 - val_loss: 2.9036 - val_accuracy: 0.2471\n",
      "Epoch 2/30\n",
      "263/263 [==============================] - 6s 21ms/step - loss: 0.7011 - accuracy: 0.7831 - val_loss: 0.5885 - val_accuracy: 0.8331\n",
      "Epoch 3/30\n",
      "263/263 [==============================] - 5s 21ms/step - loss: 0.5649 - accuracy: 0.8282 - val_loss: 0.4802 - val_accuracy: 0.8619\n",
      "Epoch 4/30\n",
      "263/263 [==============================] - 5s 21ms/step - loss: 0.5038 - accuracy: 0.8451 - val_loss: 0.5847 - val_accuracy: 0.8175\n",
      "Epoch 5/30\n",
      "263/263 [==============================] - 6s 21ms/step - loss: 0.4504 - accuracy: 0.8647 - val_loss: 0.4766 - val_accuracy: 0.8640\n",
      "Epoch 6/30\n",
      "263/263 [==============================] - 6s 21ms/step - loss: 0.4196 - accuracy: 0.8711 - val_loss: 0.4261 - val_accuracy: 0.8849\n",
      "Epoch 7/30\n",
      "263/263 [==============================] - 5s 21ms/step - loss: 0.3892 - accuracy: 0.8818 - val_loss: 0.6059 - val_accuracy: 0.8313\n",
      "Epoch 8/30\n",
      "263/263 [==============================] - 5s 21ms/step - loss: 0.3638 - accuracy: 0.8873 - val_loss: 0.4076 - val_accuracy: 0.8863\n",
      "Epoch 9/30\n",
      "263/263 [==============================] - 6s 21ms/step - loss: 0.3350 - accuracy: 0.8962 - val_loss: 0.3632 - val_accuracy: 0.8979\n",
      "Epoch 10/30\n",
      "263/263 [==============================] - 6s 21ms/step - loss: 0.3241 - accuracy: 0.8997 - val_loss: 0.3949 - val_accuracy: 0.8895\n",
      "Epoch 11/30\n",
      "263/263 [==============================] - 5s 21ms/step - loss: 0.3048 - accuracy: 0.9058 - val_loss: 0.3733 - val_accuracy: 0.9013\n",
      "Epoch 12/30\n",
      "263/263 [==============================] - 6s 21ms/step - loss: 0.2881 - accuracy: 0.9080 - val_loss: 0.4154 - val_accuracy: 0.8967\n",
      "Epoch 13/30\n",
      "263/263 [==============================] - 5s 21ms/step - loss: 0.2769 - accuracy: 0.9119 - val_loss: 0.4042 - val_accuracy: 0.9021\n",
      "Epoch 14/30\n",
      "263/263 [==============================] - 5s 21ms/step - loss: 0.2638 - accuracy: 0.9169 - val_loss: 0.4399 - val_accuracy: 0.8967\n",
      "Epoch 15/30\n",
      "263/263 [==============================] - 5s 21ms/step - loss: 0.2461 - accuracy: 0.9203 - val_loss: 0.4020 - val_accuracy: 0.9115\n",
      "Epoch 16/30\n",
      "263/263 [==============================] - 6s 21ms/step - loss: 0.2385 - accuracy: 0.9243 - val_loss: 0.4050 - val_accuracy: 0.9001\n",
      "Epoch 17/30\n",
      "263/263 [==============================] - 5s 21ms/step - loss: 0.2296 - accuracy: 0.9259 - val_loss: 0.4161 - val_accuracy: 0.8986\n",
      "Epoch 18/30\n",
      "263/263 [==============================] - 5s 21ms/step - loss: 0.2175 - accuracy: 0.9280 - val_loss: 0.3750 - val_accuracy: 0.9087\n",
      "Epoch 19/30\n",
      "263/263 [==============================] - 6s 21ms/step - loss: 0.2177 - accuracy: 0.9275 - val_loss: 0.4161 - val_accuracy: 0.8939\n",
      "Epoch 20/30\n",
      "263/263 [==============================] - 6s 21ms/step - loss: 0.2045 - accuracy: 0.9336 - val_loss: 0.3853 - val_accuracy: 0.9099\n",
      "Epoch 21/30\n",
      "263/263 [==============================] - 6s 21ms/step - loss: 0.2054 - accuracy: 0.9346 - val_loss: 0.3809 - val_accuracy: 0.9004\n",
      "Epoch 22/30\n",
      "263/263 [==============================] - 5s 21ms/step - loss: 0.1866 - accuracy: 0.9381 - val_loss: 0.4082 - val_accuracy: 0.9048\n",
      "Epoch 23/30\n",
      "263/263 [==============================] - 6s 21ms/step - loss: 0.1873 - accuracy: 0.9390 - val_loss: 0.4880 - val_accuracy: 0.9004\n",
      "Epoch 24/30\n",
      "263/263 [==============================] - 6s 21ms/step - loss: 0.1780 - accuracy: 0.9414 - val_loss: 0.4904 - val_accuracy: 0.8926\n",
      "Epoch 25/30\n",
      "263/263 [==============================] - 5s 21ms/step - loss: 0.1728 - accuracy: 0.9426 - val_loss: 0.4658 - val_accuracy: 0.9092\n",
      "Epoch 26/30\n",
      "263/263 [==============================] - 6s 21ms/step - loss: 0.1682 - accuracy: 0.9442 - val_loss: 0.4187 - val_accuracy: 0.9080\n",
      "Epoch 27/30\n",
      "263/263 [==============================] - 5s 21ms/step - loss: 0.1624 - accuracy: 0.9461 - val_loss: 0.5299 - val_accuracy: 0.8817\n",
      "Epoch 28/30\n",
      "263/263 [==============================] - 5s 21ms/step - loss: 0.1645 - accuracy: 0.9463 - val_loss: 0.5509 - val_accuracy: 0.8974\n",
      "Epoch 29/30\n",
      "263/263 [==============================] - 5s 21ms/step - loss: 0.1562 - accuracy: 0.9473 - val_loss: 0.5076 - val_accuracy: 0.9068\n",
      "Epoch 30/30\n",
      "263/263 [==============================] - 6s 21ms/step - loss: 0.1582 - accuracy: 0.9478 - val_loss: 0.4747 - val_accuracy: 0.9010\n"
     ]
    }
   ],
   "source": [
    "# Fit the model\n",
    "\n",
    "history_model_2 = model_2.fit(X_train,\n",
    "                              y_train,\n",
    "                              validation_split = 0.2,\n",
    "                              batch_size = 128,\n",
    "                              verbose = 1,\n",
    "                              epochs = 30)"
   ]
  },
  {
   "cell_type": "markdown",
   "metadata": {
    "id": "zKCdy59GKDN1"
   },
   "source": [
    "### **Plotting the validation and training accuracies**"
   ]
  },
  {
   "cell_type": "markdown",
   "metadata": {
    "id": "PyhUtMy3KDN1"
   },
   "source": [
    "### **Question 6: Write your observations on the below plot. (2 Marks)**"
   ]
  },
  {
   "cell_type": "code",
   "execution_count": 88,
   "metadata": {
    "colab": {
     "base_uri": "https://localhost:8080/",
     "height": 497
    },
    "executionInfo": {
     "elapsed": 418,
     "status": "ok",
     "timestamp": 1651964154378,
     "user": {
      "displayName": "Jackie Kim",
      "userId": "16293818887720316675"
     },
     "user_tz": 240
    },
    "id": "01ig6BrF1KVy",
    "outputId": "be18d87a-b3fb-42b1-e77a-b476e9478d1a"
   },
   "outputs": [
    {
     "data": {
      "image/png": "[encoded data removed]",
      "text/plain": [
       "<Figure size 576x576 with 1 Axes>"
      ]
     },
     "metadata": {
      "needs_background": "light"
     },
     "output_type": "display_data"
    }
   ],
   "source": [
    "# Plotting the accuracies\n",
    "\n",
    "dict_hist = history_model_2.history\n",
    "\n",
    "list_ep = [i for i in range(1, 31)]\n",
    "\n",
    "plt.figure(figsize = (8, 8))\n",
    "\n",
    "plt.plot(list_ep, dict_hist['accuracy'], ls = '--', label = 'accuracy')\n",
    "\n",
    "plt.plot(list_ep, dict_hist['val_accuracy'], ls = '--', label = 'val_accuracy')\n",
    "\n",
    "plt.ylabel('Accuracy')\n",
    "\n",
    "plt.xlabel('Epochs')\n",
    "\n",
    "plt.legend()\n",
    "\n",
    "plt.show()"
   ]
  },
  {
   "cell_type": "markdown",
   "metadata": {
    "id": "VPW1LlD61RDn"
   },
   "source": [
    "**Observations:**\n",
    "* The `val_accuracy` looks much better in terms of Accuracy. Now, we are seeing the validation accuracy performing at around 90%."
   ]
  },
  {
   "cell_type": "markdown",
   "metadata": {
    "id": "8kuXx9Bvu00f"
   },
   "source": [
    "\n",
    "## **Predictions on the test data**\n",
    "\n",
    "- Make predictions on the test set using the second model.\n",
    "- Print the obtained results using the classification report and the confusion matrix.\n",
    "- Final observations on the obtained results."
   ]
  },
  {
   "cell_type": "markdown",
   "metadata": {
    "id": "eHCRwRbgKDN2"
   },
   "source": [
    "### **Question 7: Make predictions on the test data using the second model. (1 Mark)** "
   ]
  },
  {
   "cell_type": "code",
   "execution_count": 89,
   "metadata": {
    "executionInfo": {
     "elapsed": 2592,
     "status": "ok",
     "timestamp": 1651964156952,
     "user": {
      "displayName": "Jackie Kim",
      "userId": "16293818887720316675"
     },
     "user_tz": 240
    },
    "id": "xbWMEtTj5Ad0"
   },
   "outputs": [],
   "source": [
    "# Make prediction on the test data using model_2 \n",
    "\n",
    "test_pred = model_2.predict(X_test)\n",
    "\n",
    "test_pred = np.argmax(test_pred, axis = -1)"
   ]
  },
  {
   "cell_type": "markdown",
   "metadata": {
    "id": "i3li8Ib08yts"
   },
   "source": [
    "**Note:** Earlier, we noticed that each entry of the target variable is a one-hot encoded vector, but to print the classification report and confusion matrix, we must convert each entry of y_test to a single label."
   ]
  },
  {
   "cell_type": "code",
   "execution_count": 90,
   "metadata": {
    "executionInfo": {
     "elapsed": 4,
     "status": "ok",
     "timestamp": 1651964156953,
     "user": {
      "displayName": "Jackie Kim",
      "userId": "16293818887720316675"
     },
     "user_tz": 240
    },
    "id": "NByu7uAQ8x9P"
   },
   "outputs": [],
   "source": [
    "# Converting each entry to single label from one-hot encoded vector\n",
    "\n",
    "y_test = np.argmax(y_test, axis = -1)"
   ]
  },
  {
   "cell_type": "markdown",
   "metadata": {
    "id": "aVCa-ysWKDN3"
   },
   "source": [
    "### **Question 8: Write your final observations on the performance of the model on the test data. (2 Marks)**"
   ]
  },
  {
   "cell_type": "code",
   "execution_count": 91,
   "metadata": {
    "colab": {
     "base_uri": "https://localhost:8080/",
     "height": 637
    },
    "executionInfo": {
     "elapsed": 813,
     "status": "ok",
     "timestamp": 1651964157763,
     "user": {
      "displayName": "Jackie Kim",
      "userId": "16293818887720316675"
     },
     "user_tz": 240
    },
    "id": "xRddeJ-3EHT1",
    "outputId": "1447e2fd-1f3e-42e6-c2e9-b2bb130a305e"
   },
   "outputs": [
    {
     "name": "stdout",
     "output_type": "stream",
     "text": [
      "              precision    recall  f1-score   support\n",
      "\n",
      "           0       0.90      0.93      0.92      1814\n",
      "           1       0.92      0.89      0.90      1828\n",
      "           2       0.93      0.91      0.92      1803\n",
      "           3       0.92      0.85      0.89      1719\n",
      "           4       0.93      0.91      0.92      1812\n",
      "           5       0.91      0.89      0.90      1768\n",
      "           6       0.86      0.91      0.89      1832\n",
      "           7       0.92      0.93      0.92      1808\n",
      "           8       0.84      0.91      0.87      1812\n",
      "           9       0.91      0.89      0.90      1804\n",
      "\n",
      "    accuracy                           0.90     18000\n",
      "   macro avg       0.90      0.90      0.90     18000\n",
      "weighted avg       0.90      0.90      0.90     18000\n",
      "\n"
     ]
    },
    {
     "data": {
      "image/png": "[encoded data removed]",
      "text/plain": [
       "<Figure size 576x360 with 2 Axes>"
      ]
     },
     "metadata": {
      "needs_background": "light"
     },
     "output_type": "display_data"
    }
   ],
   "source": [
    "# Importing required functions\n",
    "\n",
    "from sklearn.metrics import classification_report\n",
    "\n",
    "from sklearn.metrics import confusion_matrix\n",
    "\n",
    "# Printing the classification report\n",
    "\n",
    "print(classification_report(y_test, test_pred))\n",
    "\n",
    "# Plotting the heatmap using confusion matrix\n",
    "\n",
    "cm = confusion_matrix(y_test, test_pred)\n",
    "\n",
    "plt.figure(figsize = (8, 5))\n",
    "\n",
    "sns.heatmap(cm, annot = True,  fmt = '.0f')\n",
    "\n",
    "plt.ylabel('Actual')\n",
    "\n",
    "plt.xlabel('Predicted')\n",
    "\n",
    "plt.show()"
   ]
  },
  {
   "cell_type": "markdown",
   "metadata": {
    "id": "DjErl4GA2u9s"
   },
   "source": [
    "**Final Observations:**\n",
    "* We observe that a majority of precision was at least 90%, with the 5th label showing the best precision at 95%. \n",
    "* Recall rate ranged between 85% and 93%, with 1st and 8th labels showing the best performance at 93% simultaneously."
   ]
  },
  {
   "cell_type": "code",
   "execution_count": null,
   "metadata": {
    "id": "EiJ8ZdiiDp0h"
   },
   "outputs": [],
   "source": []
  }
 ],
 "metadata": {
  "accelerator": "GPU",
  "colab": {
   "collapsed_sections": [],
   "name": "JaeKumKim_CNN.ipynb",
   "provenance": []
  },
  "kernelspec": {
   "display_name": "Python 3 (ipykernel)",
   "language": "python",
   "name": "python3"
  },
  "language_info": {
   "codemirror_mode": {
    "name": "ipython",
    "version": 3
   },
   "file_extension": ".py",
   "mimetype": "text/x-python",
   "name": "python",
   "nbconvert_exporter": "python",
   "pygments_lexer": "ipython3",
   "version": "3.8.5"
  }
 },
 "nbformat": 4,
 "nbformat_minor": 1
}
